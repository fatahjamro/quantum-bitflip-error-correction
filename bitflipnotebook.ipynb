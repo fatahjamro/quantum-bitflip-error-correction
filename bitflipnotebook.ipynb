{
 "cells": [
  {
   "cell_type": "code",
   "execution_count": 26,
   "metadata": {},
   "outputs": [],
   "source": [
    "import qiskit\n",
    "from qiskit import QuantumCircuit\n",
    "#from qiskit import visualization"
   ]
  },
  {
   "attachments": {},
   "cell_type": "markdown",
   "metadata": {},
   "source": [
    "## Quantum Error Correction (Repetition Codes)\n",
    "### Bit flip error correcting circuit"
   ]
  },
  {
   "cell_type": "markdown",
   "metadata": {},
   "source": [
    "Encoding the quantum circuit for bit flip error correction  "
   ]
  },
  {
   "cell_type": "code",
   "execution_count": 27,
   "metadata": {},
   "outputs": [
    {
     "data": {
      "text/html": [
       "<pre style=\"word-wrap: normal;white-space: pre;background: #fff0;line-height: 1.1;font-family: &quot;Courier New&quot;,Courier,monospace\">                ░ \n",
       "q_0: ──■────■───░─\n",
       "     ┌─┴─┐  │   ░ \n",
       "q_1: ┤ X ├──┼───░─\n",
       "     └───┘┌─┴─┐ ░ \n",
       "q_2: ─────┤ X ├─░─\n",
       "          └───┘ ░ \n",
       "c: 1/═════════════\n",
       "                  </pre>"
      ],
      "text/plain": [
       "                ░ \n",
       "q_0: ──■────■───░─\n",
       "     ┌─┴─┐  │   ░ \n",
       "q_1: ┤ X ├──┼───░─\n",
       "     └───┘┌─┴─┐ ░ \n",
       "q_2: ─────┤ X ├─░─\n",
       "          └───┘ ░ \n",
       "c: 1/═════════════\n",
       "                  "
      ]
     },
     "execution_count": 27,
     "metadata": {},
     "output_type": "execute_result"
    }
   ],
   "source": [
    "qc = QuantumCircuit(3,1)\n",
    "qc.cx(0,1)\n",
    "qc.cx(0,2)\n",
    "qc.barrier()\n",
    "qc.draw()"
   ]
  },
  {
   "cell_type": "code",
   "execution_count": 28,
   "metadata": {},
   "outputs": [
    {
     "data": {
      "text/html": [
       "<pre style=\"word-wrap: normal;white-space: pre;background: #fff0;line-height: 1.1;font-family: &quot;Courier New&quot;,Courier,monospace\">                ░ ┌───┐ ░ \n",
       "q_0: ──■────■───░─┤ X ├─░─\n",
       "     ┌─┴─┐  │   ░ └───┘ ░ \n",
       "q_1: ┤ X ├──┼───░───────░─\n",
       "     └───┘┌─┴─┐ ░       ░ \n",
       "q_2: ─────┤ X ├─░───────░─\n",
       "          └───┘ ░       ░ \n",
       "c: 1/═════════════════════\n",
       "                          </pre>"
      ],
      "text/plain": [
       "                ░ ┌───┐ ░ \n",
       "q_0: ──■────■───░─┤ X ├─░─\n",
       "     ┌─┴─┐  │   ░ └───┘ ░ \n",
       "q_1: ┤ X ├──┼───░───────░─\n",
       "     └───┘┌─┴─┐ ░       ░ \n",
       "q_2: ─────┤ X ├─░───────░─\n",
       "          └───┘ ░       ░ \n",
       "c: 1/═════════════════════\n",
       "                          "
      ]
     },
     "execution_count": 28,
     "metadata": {},
     "output_type": "execute_result"
    }
   ],
   "source": [
    "# Error\n",
    "qc.x(0)\n",
    "qc.barrier()\n",
    "qc.draw()"
   ]
  },
  {
   "attachments": {},
   "cell_type": "markdown",
   "metadata": {},
   "source": [
    "Decoding the bit flip error correcting circuit then applying toffoli ccx 'control-control-NOT'gate."
   ]
  },
  {
   "cell_type": "code",
   "execution_count": 29,
   "metadata": {},
   "outputs": [
    {
     "data": {
      "text/html": [
       "<pre style=\"word-wrap: normal;white-space: pre;background: #fff0;line-height: 1.1;font-family: &quot;Courier New&quot;,Courier,monospace\">                ░ ┌───┐ ░           ┌───┐\n",
       "q_0: ──■────■───░─┤ X ├─░───■────■──┤ X ├\n",
       "     ┌─┴─┐  │   ░ └───┘ ░ ┌─┴─┐  │  └─┬─┘\n",
       "q_1: ┤ X ├──┼───░───────░─┤ X ├──┼────■──\n",
       "     └───┘┌─┴─┐ ░       ░ └───┘┌─┴─┐  │  \n",
       "q_2: ─────┤ X ├─░───────░──────┤ X ├──■──\n",
       "          └───┘ ░       ░      └───┘     \n",
       "c: 1/════════════════════════════════════\n",
       "                                         </pre>"
      ],
      "text/plain": [
       "                ░ ┌───┐ ░           ┌───┐\n",
       "q_0: ──■────■───░─┤ X ├─░───■────■──┤ X ├\n",
       "     ┌─┴─┐  │   ░ └───┘ ░ ┌─┴─┐  │  └─┬─┘\n",
       "q_1: ┤ X ├──┼───░───────░─┤ X ├──┼────■──\n",
       "     └───┘┌─┴─┐ ░       ░ └───┘┌─┴─┐  │  \n",
       "q_2: ─────┤ X ├─░───────░──────┤ X ├──■──\n",
       "          └───┘ ░       ░      └───┘     \n",
       "c: 1/════════════════════════════════════\n",
       "                                         "
      ]
     },
     "execution_count": 29,
     "metadata": {},
     "output_type": "execute_result"
    }
   ],
   "source": [
    "qc.cx(0,1)\n",
    "qc.cx(0,2)\n",
    "qc.ccx(2,1,0)\n",
    "qc.draw()\n"
   ]
  },
  {
   "cell_type": "code",
   "execution_count": 30,
   "metadata": {},
   "outputs": [
    {
     "data": {
      "text/plain": [
       "<qiskit.circuit.instructionset.InstructionSet at 0x152d03b50>"
      ]
     },
     "execution_count": 30,
     "metadata": {},
     "output_type": "execute_result"
    }
   ],
   "source": [
    "qc.measure(0,0)"
   ]
  },
  {
   "cell_type": "code",
   "execution_count": null,
   "metadata": {},
   "outputs": [],
   "source": []
  }
 ],
 "metadata": {
  "kernelspec": {
   "display_name": "base",
   "language": "python",
   "name": "python3"
  },
  "language_info": {
   "codemirror_mode": {
    "name": "ipython",
    "version": 3
   },
   "file_extension": ".py",
   "mimetype": "text/x-python",
   "name": "python",
   "nbconvert_exporter": "python",
   "pygments_lexer": "ipython3",
   "version": "3.11.0"
  },
  "orig_nbformat": 4
 },
 "nbformat": 4,
 "nbformat_minor": 2
}
