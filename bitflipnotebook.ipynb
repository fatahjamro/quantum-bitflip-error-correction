{
 "cells": [
  {
   "cell_type": "code",
   "execution_count": 10,
   "metadata": {},
   "outputs": [],
   "source": [
    "import qiskit\n",
    "from qiskit import QuantumCircuit\n",
    "#from qiskit import visualization"
   ]
  },
  {
   "attachments": {},
   "cell_type": "markdown",
   "metadata": {},
   "source": [
    "## Quantum Error Correction (Repetition Codes)\n",
    "### Bit flip error correcting circuit"
   ]
  },
  {
   "cell_type": "markdown",
   "metadata": {},
   "source": [
    "Encoding the quantum circuit for bit flip error correction  "
   ]
  },
  {
   "cell_type": "code",
   "execution_count": 11,
   "metadata": {},
   "outputs": [
    {
     "data": {
      "text/html": [
       "<pre style=\"word-wrap: normal;white-space: pre;background: #fff0;line-height: 1.1;font-family: &quot;Courier New&quot;,Courier,monospace\">                ░ \n",
       "q_0: ──■────■───░─\n",
       "     ┌─┴─┐  │   ░ \n",
       "q_1: ┤ X ├──┼───░─\n",
       "     └───┘┌─┴─┐ ░ \n",
       "q_2: ─────┤ X ├─░─\n",
       "          └───┘ ░ \n",
       "c: 1/═════════════\n",
       "                  </pre>"
      ],
      "text/plain": [
       "                ░ \n",
       "q_0: ──■────■───░─\n",
       "     ┌─┴─┐  │   ░ \n",
       "q_1: ┤ X ├──┼───░─\n",
       "     └───┘┌─┴─┐ ░ \n",
       "q_2: ─────┤ X ├─░─\n",
       "          └───┘ ░ \n",
       "c: 1/═════════════\n",
       "                  "
      ]
     },
     "execution_count": 11,
     "metadata": {},
     "output_type": "execute_result"
    }
   ],
   "source": [
    "qc = QuantumCircuit(3,1)\n",
    "qc.cx(0,1)\n",
    "qc.cx(0,2)\n",
    "qc.barrier()\n",
    "qc.draw()"
   ]
  },
  {
   "cell_type": "code",
   "execution_count": 12,
   "metadata": {},
   "outputs": [
    {
     "data": {
      "text/html": [
       "<pre style=\"word-wrap: normal;white-space: pre;background: #fff0;line-height: 1.1;font-family: &quot;Courier New&quot;,Courier,monospace\">                ░ ┌───┐ ░ \n",
       "q_0: ──■────■───░─┤ X ├─░─\n",
       "     ┌─┴─┐  │   ░ └───┘ ░ \n",
       "q_1: ┤ X ├──┼───░───────░─\n",
       "     └───┘┌─┴─┐ ░       ░ \n",
       "q_2: ─────┤ X ├─░───────░─\n",
       "          └───┘ ░       ░ \n",
       "c: 1/═════════════════════\n",
       "                          </pre>"
      ],
      "text/plain": [
       "                ░ ┌───┐ ░ \n",
       "q_0: ──■────■───░─┤ X ├─░─\n",
       "     ┌─┴─┐  │   ░ └───┘ ░ \n",
       "q_1: ┤ X ├──┼───░───────░─\n",
       "     └───┘┌─┴─┐ ░       ░ \n",
       "q_2: ─────┤ X ├─░───────░─\n",
       "          └───┘ ░       ░ \n",
       "c: 1/═════════════════════\n",
       "                          "
      ]
     },
     "execution_count": 12,
     "metadata": {},
     "output_type": "execute_result"
    }
   ],
   "source": [
    "# Error\n",
    "qc.x(0)\n",
    "qc.barrier()\n",
    "qc.draw()"
   ]
  },
  {
   "attachments": {},
   "cell_type": "markdown",
   "metadata": {},
   "source": [
    "Decoding the bit flip error correcting circuit then applying toffoli ccx 'control-control-NOT'gate."
   ]
  },
  {
   "cell_type": "code",
   "execution_count": 13,
   "metadata": {},
   "outputs": [
    {
     "data": {
      "text/html": [
       "<pre style=\"word-wrap: normal;white-space: pre;background: #fff0;line-height: 1.1;font-family: &quot;Courier New&quot;,Courier,monospace\">                ░ ┌───┐ ░           ┌───┐\n",
       "q_0: ──■────■───░─┤ X ├─░───■────■──┤ X ├\n",
       "     ┌─┴─┐  │   ░ └───┘ ░ ┌─┴─┐  │  └─┬─┘\n",
       "q_1: ┤ X ├──┼───░───────░─┤ X ├──┼────■──\n",
       "     └───┘┌─┴─┐ ░       ░ └───┘┌─┴─┐  │  \n",
       "q_2: ─────┤ X ├─░───────░──────┤ X ├──■──\n",
       "          └───┘ ░       ░      └───┘     \n",
       "c: 1/════════════════════════════════════\n",
       "                                         </pre>"
      ],
      "text/plain": [
       "                ░ ┌───┐ ░           ┌───┐\n",
       "q_0: ──■────■───░─┤ X ├─░───■────■──┤ X ├\n",
       "     ┌─┴─┐  │   ░ └───┘ ░ ┌─┴─┐  │  └─┬─┘\n",
       "q_1: ┤ X ├──┼───░───────░─┤ X ├──┼────■──\n",
       "     └───┘┌─┴─┐ ░       ░ └───┘┌─┴─┐  │  \n",
       "q_2: ─────┤ X ├─░───────░──────┤ X ├──■──\n",
       "          └───┘ ░       ░      └───┘     \n",
       "c: 1/════════════════════════════════════\n",
       "                                         "
      ]
     },
     "execution_count": 13,
     "metadata": {},
     "output_type": "execute_result"
    }
   ],
   "source": [
    "qc.cx(0,1)\n",
    "qc.cx(0,2)\n",
    "qc.ccx(2,1,0)\n",
    "qc.draw()\n"
   ]
  },
  {
   "cell_type": "code",
   "execution_count": 14,
   "metadata": {},
   "outputs": [
    {
     "data": {
      "text/plain": [
       "<qiskit.circuit.instructionset.InstructionSet at 0x111483070>"
      ]
     },
     "execution_count": 14,
     "metadata": {},
     "output_type": "execute_result"
    }
   ],
   "source": [
    "qc.measure(0,0)"
   ]
  },
  {
   "attachments": {},
   "cell_type": "markdown",
   "metadata": {},
   "source": [
    "# Phase-flip Error correction\n",
    "Code to correct qubit's phase flip error"
   ]
  },
  {
   "cell_type": "code",
   "execution_count": null,
   "metadata": {},
   "outputs": [],
   "source": []
  },
  {
   "cell_type": "code",
   "execution_count": 15,
   "metadata": {},
   "outputs": [
    {
     "data": {
      "text/html": [
       "<pre style=\"word-wrap: normal;white-space: pre;background: #fff0;line-height: 1.1;font-family: &quot;Courier New&quot;,Courier,monospace\">               ┌───┐ ░ \n",
       "q_0: ──■────■──┤ H ├─░─\n",
       "     ┌─┴─┐  │  ├───┤ ░ \n",
       "q_1: ┤ X ├──┼──┤ H ├─░─\n",
       "     └───┘┌─┴─┐├───┤ ░ \n",
       "q_2: ─────┤ X ├┤ H ├─░─\n",
       "          └───┘└───┘ ░ \n",
       "c: 1/══════════════════\n",
       "                       </pre>"
      ],
      "text/plain": [
       "               ┌───┐ ░ \n",
       "q_0: ──■────■──┤ H ├─░─\n",
       "     ┌─┴─┐  │  ├───┤ ░ \n",
       "q_1: ┤ X ├──┼──┤ H ├─░─\n",
       "     └───┘┌─┴─┐├───┤ ░ \n",
       "q_2: ─────┤ X ├┤ H ├─░─\n",
       "          └───┘└───┘ ░ \n",
       "c: 1/══════════════════\n",
       "                       "
      ]
     },
     "execution_count": 15,
     "metadata": {},
     "output_type": "execute_result"
    }
   ],
   "source": [
    "#Encoding\n",
    "\n",
    "qc = QuantumCircuit(3,1)\n",
    "qc.cx(0,1)\n",
    "qc.cx(0,2)\n",
    "qc.h(0)\n",
    "qc.h(1)\n",
    "qc.h(2)\n",
    "qc.barrier()\n",
    "qc.draw()"
   ]
  },
  {
   "cell_type": "code",
   "execution_count": 16,
   "metadata": {},
   "outputs": [
    {
     "data": {
      "text/plain": [
       "<qiskit.circuit.instructionset.InstructionSet at 0x1134724d0>"
      ]
     },
     "execution_count": 16,
     "metadata": {},
     "output_type": "execute_result"
    }
   ],
   "source": [
    "#error of flipping phase of qubit qo\n",
    "\n",
    "qc.z(0)\n",
    "qc.barrier()"
   ]
  },
  {
   "cell_type": "code",
   "execution_count": 17,
   "metadata": {},
   "outputs": [
    {
     "data": {
      "text/html": [
       "<pre style=\"word-wrap: normal;white-space: pre;background: #fff0;line-height: 1.1;font-family: &quot;Courier New&quot;,Courier,monospace\">               ┌───┐ ░ ┌───┐ ░ ┌───┐          ┌───┐┌─┐\n",
       "q_0: ──■────■──┤ H ├─░─┤ Z ├─░─┤ H ├──■────■──┤ X ├┤M├\n",
       "     ┌─┴─┐  │  ├───┤ ░ └───┘ ░ ├───┤┌─┴─┐  │  └─┬─┘└╥┘\n",
       "q_1: ┤ X ├──┼──┤ H ├─░───────░─┤ H ├┤ X ├──┼────■───╫─\n",
       "     └───┘┌─┴─┐├───┤ ░       ░ ├───┤└───┘┌─┴─┐  │   ║ \n",
       "q_2: ─────┤ X ├┤ H ├─░───────░─┤ H ├─────┤ X ├──■───╫─\n",
       "          └───┘└───┘ ░       ░ └───┘     └───┘      ║ \n",
       "c: 1/═══════════════════════════════════════════════╩═\n",
       "                                                    0 </pre>"
      ],
      "text/plain": [
       "               ┌───┐ ░ ┌───┐ ░ ┌───┐          ┌───┐┌─┐\n",
       "q_0: ──■────■──┤ H ├─░─┤ Z ├─░─┤ H ├──■────■──┤ X ├┤M├\n",
       "     ┌─┴─┐  │  ├───┤ ░ └───┘ ░ ├───┤┌─┴─┐  │  └─┬─┘└╥┘\n",
       "q_1: ┤ X ├──┼──┤ H ├─░───────░─┤ H ├┤ X ├──┼────■───╫─\n",
       "     └───┘┌─┴─┐├───┤ ░       ░ ├───┤└───┘┌─┴─┐  │   ║ \n",
       "q_2: ─────┤ X ├┤ H ├─░───────░─┤ H ├─────┤ X ├──■───╫─\n",
       "          └───┘└───┘ ░       ░ └───┘     └───┘      ║ \n",
       "c: 1/═══════════════════════════════════════════════╩═\n",
       "                                                    0 "
      ]
     },
     "execution_count": 17,
     "metadata": {},
     "output_type": "execute_result"
    }
   ],
   "source": [
    "#decoding\n",
    "qc.h(0)\n",
    "qc.h(1)\n",
    "qc.h(2)\n",
    "qc.cx(0,1)\n",
    "qc.cx(0,2)\n",
    "qc.ccx(2,1,0)\n",
    "qc.measure(0,0)\n",
    "qc.draw()"
   ]
  }
 ],
 "metadata": {
  "kernelspec": {
   "display_name": "base",
   "language": "python",
   "name": "python3"
  },
  "language_info": {
   "codemirror_mode": {
    "name": "ipython",
    "version": 3
   },
   "file_extension": ".py",
   "mimetype": "text/x-python",
   "name": "python",
   "nbconvert_exporter": "python",
   "pygments_lexer": "ipython3",
   "version": "3.11.0"
  },
  "orig_nbformat": 4
 },
 "nbformat": 4,
 "nbformat_minor": 2
}
